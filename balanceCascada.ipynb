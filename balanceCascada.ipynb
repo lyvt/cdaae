{
 "cells": [
  {
   "cell_type": "code",
   "execution_count": 1,
   "metadata": {},
   "outputs": [
    {
     "name": "stderr",
     "output_type": "stream",
     "text": [
      "/usr/local/lib/python2.7/dist-packages/pandas/core/computation/__init__.py:18: UserWarning: The installed version of numexpr 2.4.3 is not supported in pandas and will be not be used\n",
      "The minimum supported version is 2.4.6\n",
      "\n",
      "  ver=ver, min_ver=_MIN_NUMEXPR_VERSION), UserWarning)\n"
     ]
    },
    {
     "name": "stdout",
     "output_type": "stream",
     "text": [
      "('total file: ', 2)\n",
      "('total record: ', 4655)\n",
      "('data shape: ', (4655, 25))\n",
      "[[0]\n",
      " [0]\n",
      " [0]\n",
      " [0]\n",
      " [0]\n",
      " [0]\n",
      " [0]\n",
      " [0]\n",
      " [0]\n",
      " [0]]\n",
      "[[1. 0.]\n",
      " [1. 0.]\n",
      " [1. 0.]\n",
      " [1. 0.]\n",
      " [1. 0.]\n",
      " [1. 0.]\n",
      " [1. 0.]\n",
      " [1. 0.]\n",
      " [1. 0.]\n",
      " [1. 0.]]\n",
      "thoi gian chay\n",
      "0.564878940582\n"
     ]
    }
   ],
   "source": [
    "from collections import Counter\n",
    "from sklearn.datasets import make_classification\n",
    "from imblearn.ensemble import BalanceCascade\n",
    "#import nslkdd41\n",
    "import numpy as np\n",
    "import classifier\n",
    "#import unsw\n",
    "import time\n",
    "import cloud\n",
    "\n",
    "#import cicids17\n",
    "\n",
    "dt = cloud.read_data_sets()\n",
    "\n",
    "X_train = dt.train.features\n",
    "Y_train = dt.train.labels\n",
    "\n",
    "X_test = dt.test.features\n",
    "Y_test = dt.test.labels\n",
    "\n",
    "Y_tr = np.argmax(Y_train, axis=1)\n",
    "Y_te = np.argmax(Y_test, axis=1)\n",
    "start = time.time()\n",
    "sm = BalanceCascade(random_state=42)\n",
    "X_res, Y_res = sm.fit_sample(X_train, Y_tr)\n",
    "stop = time.time()\n",
    "print (\"thoi gian chay\")\n",
    "print (stop - start)\n"
   ]
  },
  {
   "cell_type": "code",
   "execution_count": 2,
   "metadata": {},
   "outputs": [
    {
     "name": "stdout",
     "output_type": "stream",
     "text": [
      "24\n",
      "90\n",
      "68\n",
      "(90, 68, 24)\n",
      "(68, 24)\n",
      "(90, 68)\n",
      "(6120, 24)\n",
      "(6120, 1)\n",
      "-------------------------BALANCE CASCADA----------------------\n",
      "SVM\n",
      "SVM\n",
      "                   pre       rec       spe        f1       geo       iba       sup\n",
      "\n",
      "          0       1.00      1.00      1.00      1.00      1.00      1.00      1508\n",
      "          1       1.00      1.00      1.00      1.00      1.00      1.00        29\n",
      "\n",
      "avg / total       1.00      1.00      1.00      1.00      1.00      1.00      1537\n",
      "\n",
      "[[1508    0]\n",
      " [   0   29]]\n",
      "The geometric mean is 1.0\n",
      "The auc is 1.0\n",
      "The f1 is 1.0\n",
      "Decision tree\n",
      "Decision tree\n",
      "                   pre       rec       spe        f1       geo       iba       sup\n",
      "\n",
      "          0       1.00      1.00      1.00      1.00      1.00      1.00      1508\n",
      "          1       1.00      1.00      1.00      1.00      1.00      1.00        29\n",
      "\n",
      "avg / total       1.00      1.00      1.00      1.00      1.00      1.00      1537\n",
      "\n",
      "[[1508    0]\n",
      " [   0   29]]\n",
      "The geometric mean is 1.0\n",
      "The auc is 1.0\n",
      "The f1 is 1.0\n",
      "Random forest\n"
     ]
    },
    {
     "name": "stderr",
     "output_type": "stream",
     "text": [
      "/usr/local/lib/python2.7/dist-packages/sklearn/utils/validation.py:578: DataConversionWarning: A column-vector y was passed when a 1d array was expected. Please change the shape of y to (n_samples, ), for example using ravel().\n",
      "  y = column_or_1d(y, warn=True)\n",
      "classifier.py:248: DataConversionWarning: A column-vector y was passed when a 1d array was expected. Please change the shape of y to (n_samples,), for example using ravel().\n",
      "  clf.fit(X_tr, Y_tr)\n"
     ]
    },
    {
     "name": "stdout",
     "output_type": "stream",
     "text": [
      "             precision    recall  f1-score   support\n",
      "\n",
      "          0       1.00      1.00      1.00      1508\n",
      "          1       1.00      1.00      1.00        29\n",
      "\n",
      "avg / total       1.00      1.00      1.00      1537\n",
      "\n",
      "The geometric mean is 1.0\n",
      "[[1508    0]\n",
      " [   0   29]]\n",
      "The auc is 1.0\n",
      "The f1 is 1.0\n"
     ]
    }
   ],
   "source": [
    "X_res = np.reshape(X_res, (len(X_res)*len(X_res[0]), len(X_res[0][0])))\n",
    "Y_res = np.reshape(Y_res, (len(Y_res)*len(Y_res[0]), 1))\n",
    "Y_test = np.reshape(Y_te, (len(Y_te), 1))\n",
    "\n",
    "\n",
    "print (\"-------------------------BALANCE CASCADA----------------------\")\n",
    "print (\"SVM\")\n",
    "svm_roc_gan = classifier.svm(X_res, Y_res , X_test,Y_te)\n",
    "print (\"Decision tree\")\n",
    "dt_roc_gan = classifier.decisiontree(X_res, Y_res , X_test,Y_te)\n",
    "print (\"Random forest\")\n",
    "rf_roc_gan = classifier.randomforest(X_res, Y_res , X_test,Y_te)"
   ]
  }
 ],
 "metadata": {
  "kernelspec": {
   "display_name": "Python 2",
   "language": "python",
   "name": "python2"
  },
  "language_info": {
   "codemirror_mode": {
    "name": "ipython",
    "version": 2
   },
   "file_extension": ".py",
   "mimetype": "text/x-python",
   "name": "python",
   "nbconvert_exporter": "python",
   "pygments_lexer": "ipython2",
   "version": "2.7.10"
  }
 },
 "nbformat": 4,
 "nbformat_minor": 2
}
