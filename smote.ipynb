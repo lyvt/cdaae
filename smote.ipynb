{
 "cells": [
  {
   "cell_type": "code",
   "execution_count": 1,
   "metadata": {},
   "outputs": [
    {
     "name": "stderr",
     "output_type": "stream",
     "text": [
      "/usr/local/lib/python2.7/dist-packages/pandas/core/computation/__init__.py:18: UserWarning: The installed version of numexpr 2.4.3 is not supported in pandas and will be not be used\n",
      "The minimum supported version is 2.4.6\n",
      "\n",
      "  ver=ver, min_ver=_MIN_NUMEXPR_VERSION), UserWarning)\n"
     ]
    },
    {
     "name": "stdout",
     "output_type": "stream",
     "text": [
      "('total file: ', 4)\n",
      "('total record: ', 5137)\n",
      "('data shape: ', (5137, 25))\n",
      "[[0]\n",
      " [0]\n",
      " [0]\n",
      " [0]\n",
      " [0]\n",
      " [1]\n",
      " [0]\n",
      " [0]\n",
      " [1]\n",
      " [0]]\n",
      "[[1. 0.]\n",
      " [1. 0.]\n",
      " [1. 0.]\n",
      " [1. 0.]\n",
      " [1. 0.]\n",
      " [0. 1.]\n",
      " [1. 0.]\n",
      " [1. 0.]\n",
      " [0. 1.]\n",
      " [1. 0.]]\n",
      "thoi gian chay\n",
      "0.351290941238\n",
      "original dataset shape Counter({0: 3075, 1: 366})\n",
      "Resampled dataset shape Counter({0: 3075, 1: 3075})\n"
     ]
    }
   ],
   "source": [
    "from collections import Counter\n",
    "from sklearn.datasets import make_classification\n",
    "from imblearn.over_sampling import SMOTE \n",
    "#import nslkdd41\n",
    "import numpy as np\n",
    "import classifier\n",
    "#import unsw\n",
    "import time\n",
    "#import cicids17\n",
    "import cloud\n",
    "\n",
    "dt = cloud.read_data_sets()\n",
    "\n",
    "X_train = dt.train.features\n",
    "Y_train = dt.train.labels\n",
    "\n",
    "X_test = dt.test.features\n",
    "Y_test = dt.test.labels\n",
    "\n",
    "Y_tr = np.argmax(Y_train, axis=1)\n",
    "Y_te = np.argmax(Y_test, axis=1)\n",
    "start = time.time()\n",
    "sm = SMOTE(random_state=42, kind = 'svm')\n",
    "X_res, Y_res = sm.fit_sample(X_train, Y_tr)\n",
    "stop = time.time()\n",
    "print (\"thoi gian chay\")\n",
    "print (stop - start)\n",
    "print('original dataset shape {}'.format(Counter(Y_tr)))\n",
    "print('Resampled dataset shape {}'.format(Counter(Y_res)))\n"
   ]
  },
  {
   "cell_type": "code",
   "execution_count": 2,
   "metadata": {},
   "outputs": [
    {
     "name": "stdout",
     "output_type": "stream",
     "text": [
      "(6150, 1)\n",
      "-------------------------SMOTE-SVM---------------------\n",
      "SVM\n"
     ]
    },
    {
     "name": "stderr",
     "output_type": "stream",
     "text": [
      "/usr/local/lib/python2.7/dist-packages/sklearn/utils/validation.py:578: DataConversionWarning: A column-vector y was passed when a 1d array was expected. Please change the shape of y to (n_samples, ), for example using ravel().\n",
      "  y = column_or_1d(y, warn=True)\n"
     ]
    },
    {
     "name": "stdout",
     "output_type": "stream",
     "text": [
      "SVM\n",
      "                   pre       rec       spe        f1       geo       iba       sup\n",
      "\n",
      "          0       0.91      0.97      0.23      0.94      0.47      0.24      1517\n",
      "          1       0.48      0.23      0.97      0.31      0.47      0.21       179\n",
      "\n",
      "avg / total       0.87      0.89      0.31      0.88      0.47      0.24      1696\n",
      "\n",
      "[[1473   44]\n",
      " [ 138   41]]\n",
      "The geometric mean is 0.47160021661\n",
      "The auc is 0.60002283248\n",
      "The f1 is 0.892688679245\n",
      "Decision tree\n",
      "Decision tree\n",
      "                   pre       rec       spe        f1       geo       iba       sup\n",
      "\n",
      "          0       1.00      0.99      0.97      0.99      0.98      0.95      1517\n",
      "          1       0.89      0.97      0.99      0.93      0.98      0.95       179\n",
      "\n",
      "avg / total       0.99      0.98      0.97      0.98      0.98      0.95      1696\n",
      "\n",
      "[[1496   21]\n",
      " [   6  173]]\n",
      "The geometric mean is 0.976269097345\n",
      "The auc is 0.976318667762\n",
      "The f1 is 0.984080188679\n",
      "Random forest\n"
     ]
    },
    {
     "name": "stderr",
     "output_type": "stream",
     "text": [
      "classifier.py:248: DataConversionWarning: A column-vector y was passed when a 1d array was expected. Please change the shape of y to (n_samples,), for example using ravel().\n",
      "  clf.fit(X_tr, Y_tr)\n"
     ]
    },
    {
     "name": "stdout",
     "output_type": "stream",
     "text": [
      "             precision    recall  f1-score   support\n",
      "\n",
      "          0       1.00      1.00      1.00      1517\n",
      "          1       0.99      0.97      0.98       179\n",
      "\n",
      "avg / total       1.00      1.00      1.00      1696\n",
      "\n",
      "The geometric mean is 0.982449106703\n",
      "[[1515    2]\n",
      " [   6  173]]\n",
      "The auc is 0.982581027683\n",
      "The f1 is 0.995283018868\n"
     ]
    }
   ],
   "source": [
    "Y_res = np.reshape(Y_res, (len(Y_res), 1))\n",
    "\n",
    "print (\"-------------------------SMOTE-SVM---------------------\")\n",
    "print (\"SVM\")\n",
    "svm_roc_gan = classifier.svm(X_res, Y_res , X_test,Y_te)\n",
    "print (\"Decision tree\")\n",
    "dt_roc_gan = classifier.decisiontree(X_res, Y_res , X_test,Y_te)\n",
    "print (\"Random forest\")\n",
    "rf_roc_gan = classifier.randomforest(X_res, Y_res , X_test,Y_te)"
   ]
  },
  {
   "cell_type": "code",
   "execution_count": 3,
   "metadata": {},
   "outputs": [
    {
     "name": "stdout",
     "output_type": "stream",
     "text": [
      "smote tomek\n",
      "0.232998847961\n"
     ]
    }
   ],
   "source": [
    "from imblearn.combine import SMOTETomek\n",
    "\n",
    "s1 = time.time()\n",
    "sm = SMOTETomek()\n",
    "X_resampled, y_resampled = sm.fit_sample(X_train, Y_tr)\n",
    "s2 = time.time()\n",
    "print (\"smote tomek\")\n",
    "print (s2-s1)"
   ]
  },
  {
   "cell_type": "code",
   "execution_count": 4,
   "metadata": {},
   "outputs": [
    {
     "name": "stdout",
     "output_type": "stream",
     "text": [
      "(6142, 1)\n",
      "-------------------------SMOTE-TOMEK---------------------\n",
      "SVM\n",
      "SVM\n",
      "                   pre       rec       spe        f1       geo       iba       sup\n",
      "\n",
      "          0       0.91      0.97      0.22      0.94      0.46      0.23      1517\n",
      "          1       0.49      0.22      0.97      0.30      0.46      0.20       179\n",
      "\n",
      "avg / total       0.87      0.89      0.30      0.87      0.46      0.22      1696\n",
      "\n",
      "[[1477   40]\n",
      " [ 140   39]]\n",
      "The geometric mean is 0.460578059073\n",
      "The auc is 0.595754631863\n",
      "The f1 is 0.893867924528\n",
      "Decision tree\n",
      "Decision tree\n",
      "                   pre       rec       spe        f1       geo       iba       sup\n",
      "\n",
      "          0       0.99      1.00      0.94      0.99      0.97      0.94      1517\n",
      "          1       0.96      0.94      1.00      0.95      0.97      0.93       179\n",
      "\n",
      "avg / total       0.99      0.99      0.94      0.99      0.97      0.94      1696\n",
      "\n",
      "[[1510    7]\n",
      " [  11  168]]\n",
      "The geometric mean is 0.966548850411\n",
      "The auc is 0.966966557783\n",
      "The f1 is 0.989386792453\n",
      "Random forest\n",
      "             precision    recall  f1-score   support\n",
      "\n",
      "          0       1.00      1.00      1.00      1517\n",
      "          1       0.98      0.97      0.97       179\n",
      "\n",
      "avg / total       0.99      0.99      0.99      1696\n",
      "\n",
      "The geometric mean is 0.984633895995\n",
      "[[1513    4]\n",
      " [   5  174]]\n",
      "The auc is 0.984715127991\n",
      "The f1 is 0.994693396226\n"
     ]
    }
   ],
   "source": [
    "Y_res1 = np.reshape(y_resampled, (len(y_resampled), 1))\n",
    "#Y_test1 = np.reshape(Y_te, (len(Y_te), 1))\n",
    "print (Y_res1.shape)\n",
    "print (\"-------------------------SMOTE-TOMEK---------------------\")\n",
    "print (\"SVM\")\n",
    "svm_roc_gan = classifier.svm(X_resampled, Y_res1 , X_test,Y_te)\n",
    "print (\"Decision tree\")\n",
    "dt_roc_gan = classifier.decisiontree(X_resampled, Y_res1 , X_test,Y_te)\n",
    "print (\"Random forest\")\n",
    "rf_roc_gan = classifier.randomforest(X_resampled, Y_res1 , X_test,Y_te)"
   ]
  },
  {
   "cell_type": "code",
   "execution_count": 5,
   "metadata": {},
   "outputs": [
    {
     "ename": "IndentationError",
     "evalue": "unexpected indent (<ipython-input-5-a2b2d8d405ca>, line 6)",
     "output_type": "error",
     "traceback": [
      "\u001b[0;36m  File \u001b[0;32m\"<ipython-input-5-a2b2d8d405ca>\"\u001b[0;36m, line \u001b[0;32m6\u001b[0m\n\u001b[0;31m    svm_roc_gan = classifier.svm(X_res, Y_res , X_test,Y_te)\u001b[0m\n\u001b[0m    ^\u001b[0m\n\u001b[0;31mIndentationError\u001b[0m\u001b[0;31m:\u001b[0m unexpected indent\n"
     ]
    }
   ],
   "source": [
    "Y_res = np.reshape(Y_res, (len(Y_res), 1))\n",
    "Y_test = np.reshape(Y_te, (len(Y_te), 1))\n",
    "print (Y_res.shape)\n",
    "print (\"-------------------------SMOTE----------------------\")\n",
    "print (\"SVM\")\n",
    " svm_roc_gan = classifier.svm(X_res, Y_res , X_test,Y_te)\n",
    "print (\"Decision tree\")\n",
    "dt_roc_gan = classifier.decisiontree(X_res, Y_res , X_test,Y_te)\n",
    "print (\"Random forest\")\n",
    " rf_roc_gan = classifier.randomforest(X_res, Y_res , X_test,Y_te)"
   ]
  }
 ],
 "metadata": {
  "kernelspec": {
   "display_name": "Python 2",
   "language": "python",
   "name": "python2"
  },
  "language_info": {
   "codemirror_mode": {
    "name": "ipython",
    "version": 2
   },
   "file_extension": ".py",
   "mimetype": "text/x-python",
   "name": "python",
   "nbconvert_exporter": "python",
   "pygments_lexer": "ipython2",
   "version": "2.7.10"
  }
 },
 "nbformat": 4,
 "nbformat_minor": 2
}
